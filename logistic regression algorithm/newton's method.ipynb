{
 "cells": [
  {
   "cell_type": "code",
   "execution_count": 1,
   "metadata": {
    "collapsed": true
   },
   "outputs": [],
   "source": [
    "import numpy as np\n",
    "import pandas as pd\n",
    "from patsy import dmatrices\n",
    "import warnings"
   ]
  },
  {
   "cell_type": "code",
   "execution_count": 2,
   "metadata": {},
   "outputs": [],
   "source": [
    "def sigmoid(x):\n",
    "    '''SIGMOID FUNCTION FOR X'''\n",
    "\n",
    "    return 1/(1+np.exp(-x))"
   ]
  },
  {
   "cell_type": "code",
   "execution_count": 3,
   "metadata": {},
   "outputs": [],
   "source": [
    "## Algorith settings\n",
    "\n",
    "np.random.seed(0) # set the seed\n",
    "tol=1e-8 # convergence tolerance\n",
    "lam = None # l2 - regularization\n",
    "max_iter = 20 # maximum allowed iterations \n",
    "r = 0.95 # covariance between x and z\n",
    "n = 1000 # number of observations (size of dataset to generate)\n",
    "sigma = 1 # variance of noise - how spread out is the data?\n",
    "\n",
    "## Model settings\n",
    "\n",
    "beta_x, beta_z, beta_v = -4, .9, 1 # true beta coefficients\n",
    "var_x, var_z, var_v = 1, 1, 4 # variances of inputs\n",
    "\n",
    "## the model specification i want to fit\n",
    "formula = 'y ~ x + z + v + np.exp(x) + I(v**2 + z)'"
   ]
  },
  {
   "cell_type": "code",
   "execution_count": 9,
   "metadata": {},
   "outputs": [
    {
     "name": "stderr",
     "output_type": "stream",
     "text": [
      "/Users/FabianaBoldrin/PycharmProjects/hackerHank/venv/lib/python3.6/site-packages/ipykernel_launcher.py:4: RuntimeWarning: overflow encountered in exp\n  after removing the cwd from sys.path.\n"
     ]
    },
    {
     "data": {
      "text/html": [
       "<div>\n",
       "<style scoped>\n",
       "    .dataframe tbody tr th:only-of-type {\n",
       "        vertical-align: middle;\n",
       "    }\n",
       "\n",
       "    .dataframe tbody tr th {\n",
       "        vertical-align: top;\n",
       "    }\n",
       "\n",
       "    .dataframe thead th {\n",
       "        text-align: right;\n",
       "    }\n",
       "</style>\n",
       "<table border=\"1\" class=\"dataframe\">\n",
       "  <thead>\n",
       "    <tr style=\"text-align: right;\">\n",
       "      <th></th>\n",
       "      <th>Intercept</th>\n",
       "      <th>x</th>\n",
       "      <th>z</th>\n",
       "      <th>v</th>\n",
       "      <th>np.exp(x)</th>\n",
       "      <th>I(v ** 2 + z)</th>\n",
       "    </tr>\n",
       "  </thead>\n",
       "  <tbody>\n",
       "    <tr>\n",
       "      <th>0</th>\n",
       "      <td>1.0</td>\n",
       "      <td>-1.611418</td>\n",
       "      <td>-1.566192</td>\n",
       "      <td>15.613483</td>\n",
       "      <td>0.199604</td>\n",
       "      <td>242.214667</td>\n",
       "    </tr>\n",
       "    <tr>\n",
       "      <th>1</th>\n",
       "      <td>1.0</td>\n",
       "      <td>-0.080909</td>\n",
       "      <td>0.085959</td>\n",
       "      <td>42.720111</td>\n",
       "      <td>0.922278</td>\n",
       "      <td>1825.093814</td>\n",
       "    </tr>\n",
       "    <tr>\n",
       "      <th>2</th>\n",
       "      <td>1.0</td>\n",
       "      <td>0.297531</td>\n",
       "      <td>0.142110</td>\n",
       "      <td>3.530885</td>\n",
       "      <td>1.346531</td>\n",
       "      <td>12.609259</td>\n",
       "    </tr>\n",
       "    <tr>\n",
       "      <th>3</th>\n",
       "      <td>1.0</td>\n",
       "      <td>1.412771</td>\n",
       "      <td>1.734809</td>\n",
       "      <td>-57.235945</td>\n",
       "      <td>4.107323</td>\n",
       "      <td>3277.688187</td>\n",
       "    </tr>\n",
       "    <tr>\n",
       "      <th>4</th>\n",
       "      <td>1.0</td>\n",
       "      <td>0.204214</td>\n",
       "      <td>-0.302335</td>\n",
       "      <td>-0.074792</td>\n",
       "      <td>1.226561</td>\n",
       "      <td>-0.296741</td>\n",
       "    </tr>\n",
       "  </tbody>\n",
       "</table>\n",
       "</div>"
      ],
      "text/plain": [
       "<div>\n",
       "<style scoped>\n",
       "    .dataframe tbody tr th:only-of-type {\n",
       "        vertical-align: middle;\n",
       "    }\n",
       "\n",
       "    .dataframe tbody tr th {\n",
       "        vertical-align: top;\n",
       "    }\n",
       "\n",
       "    .dataframe thead th {\n",
       "        text-align: right;\n",
       "    }\n",
       "</style>\n",
       "<table border=\"1\" class=\"dataframe\">\n",
       "  <thead>\n",
       "    <tr style=\"text-align: right;\">\n",
       "      <th></th>\n",
       "      <th>Intercept</th>\n",
       "      <th>x</th>\n",
       "      <th>z</th>\n",
       "      <th>v</th>\n",
       "      <th>np.exp(x)</th>\n",
       "      <th>I(v ** 2 + z)</th>\n",
       "    </tr>\n",
       "  </thead>\n",
       "  <tbody>\n",
       "    <tr>\n",
       "      <th>0</th>\n",
       "      <td>1.0</td>\n",
       "      <td>-1.611418</td>\n",
       "      <td>-1.566192</td>\n",
       "      <td>15.613483</td>\n",
       "      <td>0.199604</td>\n",
       "      <td>242.214667</td>\n",
       "    </tr>\n",
       "    <tr>\n",
       "      <th>1</th>\n",
       "      <td>1.0</td>\n",
       "      <td>-0.080909</td>\n",
       "      <td>0.085959</td>\n",
       "      <td>42.720111</td>\n",
       "      <td>0.922278</td>\n",
       "      <td>1825.093814</td>\n",
       "    </tr>\n",
       "    <tr>\n",
       "      <th>2</th>\n",
       "      <td>1.0</td>\n",
       "      <td>0.297531</td>\n",
       "      <td>0.142110</td>\n",
       "      <td>3.530885</td>\n",
       "      <td>1.346531</td>\n",
       "      <td>12.609259</td>\n",
       "    </tr>\n",
       "    <tr>\n",
       "      <th>3</th>\n",
       "      <td>1.0</td>\n",
       "      <td>1.412771</td>\n",
       "      <td>1.734809</td>\n",
       "      <td>-57.235945</td>\n",
       "      <td>4.107323</td>\n",
       "      <td>3277.688187</td>\n",
       "    </tr>\n",
       "    <tr>\n",
       "      <th>4</th>\n",
       "      <td>1.0</td>\n",
       "      <td>0.204214</td>\n",
       "      <td>-0.302335</td>\n",
       "      <td>-0.074792</td>\n",
       "      <td>1.226561</td>\n",
       "      <td>-0.296741</td>\n",
       "    </tr>\n",
       "  </tbody>\n",
       "</table>\n",
       "</div>"
      ]
     },
     "execution_count": 9,
     "metadata": {},
     "output_type": "execute_result"
    }
   ],
   "source": [
    "# keeping x and z closely related (height and weight)\n",
    "x, z = np.random.multivariate_normal([0,0], [[var_x, r], [r, var_z]], n).T\n",
    "# blood pressure\n",
    "v = np.random.normal(0, var_v, n)**3\n",
    "\n",
    "# create a pandas dataframe\n",
    "A = pd.DataFrame({'x': x, 'z': z, 'v': v})\n",
    "\n",
    "# compute the log offs for our 3 independent variables\n",
    "# using the sigmoid function\n",
    "A['log_odds'] = sigmoid(A[['x', 'z', 'v']].dot([beta_x, beta_z, beta_v]) + sigma * np.random.normal(0,1,n))\n",
    "\n",
    "#compute te probability sample from binomial distribuition\n",
    "A['y'] = [np.random.binomial(1,p) for p in A.log_odds]\n",
    "\n",
    "# create a dataframe that encompasses our input data, model formula, and outputs\n",
    "y, X = dmatrices(formula, A, return_type = 'dataframe')\n",
    "\n",
    "X.head()"
   ]
  },
  {
   "cell_type": "code",
   "execution_count": 5,
   "metadata": {},
   "outputs": [],
   "source": [
    "def catch_singularity(f):\n",
    "    def silencer(*args, **kwargs):\n",
    "        try:\n",
    "            return f(*args, **kwargs)\n",
    "        except np.linalg.LinAlgError:\n",
    "            warnings.warn('Algotithm terminated - singular Hessian')\n",
    "            return args[0]\n",
    "        return silencer"
   ]
  },
  {
   "cell_type": "code",
   "execution_count": 15,
   "metadata": {},
   "outputs": [],
   "source": [
    "def newton_step(curr, X, lam=None):\n",
    "    p = np.array(sigmoid(X.dot(curr[:,0])), ndmin=2).T\n",
    "    w = np.diag((p*(1-p))[:,0])\n",
    "    hessian = X.T.dot(w).dot(X)\n",
    "    grad = X.T.dot(y-p)\n",
    "    \n",
    "    if lam:\n",
    "        step, *_ = np.linalg.lstsq(hessian + lam*np.eye(curr.shape[0]), grad)\n",
    "    else:\n",
    "        step, *_ = np.linalg.lstsq(hessian, grad)\n",
    "    \n",
    "    beta = curr + step\n",
    "    \n",
    "    return beta"
   ]
  },
  {
   "cell_type": "code",
   "execution_count": 16,
   "metadata": {},
   "outputs": [],
   "source": [
    "def alt_newton_step(curr, X, lam=None):\n",
    "    p = np.array(sigmoid(X.dot(curr[:,0])), ndmin=2).T\n",
    "    w = np.diag((p*(1-p))[:,0])\n",
    "    hessian = X.T.dot(w).dot(X)\n",
    "    grad = X.T.dot(y-p)\n",
    "    \n",
    "    if lam:\n",
    "        step = np.dot(np.linalg(hessian + lam*np.eye(curr.chape[0])), grad)\n",
    "    else:\n",
    "        step = np.dot(np.linalg.inv(hessian), grad)\n",
    "    \n",
    "    beta = curr + step\n",
    "    \n",
    "    return beta"
   ]
  },
  {
   "cell_type": "code",
   "execution_count": 17,
   "metadata": {},
   "outputs": [],
   "source": [
    "def check_coefs_convergence(beta_old, beta_new, tol, iters):\n",
    "    coef_change = np.abs(beta_old - beta_new)\n",
    "    \n",
    "    return not (np.any(coef_change > tol) & (iters < max_iter))"
   ]
  },
  {
   "cell_type": "code",
   "execution_count": 18,
   "metadata": {},
   "outputs": [
    {
     "name": "stderr",
     "output_type": "stream",
     "text": [
      "/Users/FabianaBoldrin/PycharmProjects/hackerHank/venv/lib/python3.6/site-packages/ipykernel_launcher.py:10: FutureWarning: `rcond` parameter will change to the default of machine precision times ``max(M, N)`` where M and N are the input matrix dimensions.\nTo use the future default and silence this warning we advise to pass `rcond=None`, to keep using the old, explicitly pass `rcond=-1`.\n  # Remove the CWD from sys.path while we load stuff.\n/Users/FabianaBoldrin/PycharmProjects/hackerHank/venv/lib/python3.6/site-packages/ipykernel_launcher.py:4: RuntimeWarning: overflow encountered in exp\n  after removing the cwd from sys.path.\n"
     ]
    },
    {
     "name": "stdout",
     "output_type": "stream",
     "text": [
      "Iterations: 19\nBeta: [[-5.54864946e+29]\n [ 3.94495505e+29]\n [-5.60359599e+29]\n [ 7.77400045e+29]\n [-4.79447792e+27]\n [ 7.99669363e+29]]\n"
     ]
    }
   ],
   "source": [
    "## initial conditions\n",
    "# initial coefficients (weight values), 2 copies, we'll update one\n",
    "beta_old, beta = np.ones((len(X.columns), 1)), np.zeros((len(X.columns), 1))\n",
    "\n",
    "iter_count = 0\n",
    "\n",
    "coefs_converged = False\n",
    "\n",
    "while not coefs_converged:\n",
    "    beta_old = beta\n",
    "    beta = newton_step(beta, X, lam=lam)\n",
    "    iter_count += 1\n",
    "    coefs_converged = check_coefs_convergence(beta_old, beta, tol, iter_count)\n",
    "\n",
    "print('Iterations: {}'.format(iter_count))\n",
    "print('Beta: {}'.format(beta))"
   ]
  },
  {
   "cell_type": "code",
   "execution_count": 19,
   "metadata": {},
   "outputs": [],
   "source": []
  },
  {
   "cell_type": "code",
   "execution_count": null,
   "metadata": {},
   "outputs": [],
   "source": []
  }
 ],
 "metadata": {
  "kernelspec": {
   "display_name": "Python 2",
   "language": "python",
   "name": "python2"
  },
  "language_info": {
   "codemirror_mode": {
    "name": "ipython",
    "version": 2
   },
   "file_extension": ".py",
   "mimetype": "text/x-python",
   "name": "python",
   "nbconvert_exporter": "python",
   "pygments_lexer": "ipython2",
   "version": "2.7.6"
  }
 },
 "nbformat": 4,
 "nbformat_minor": 0
}
